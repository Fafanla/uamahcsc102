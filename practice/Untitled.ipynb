{
 "cells": [
  {
   "cell_type": "code",
   "execution_count": 1,
   "id": "6a24d6cb",
   "metadata": {},
   "outputs": [
    {
     "name": "stdout",
     "output_type": "stream",
     "text": [
      "Hello Jay\n"
     ]
    }
   ],
   "source": [
    "print(\"Hello Jay\")"
   ]
  },
  {
   "cell_type": "code",
   "execution_count": 5,
   "id": "7bd701e5",
   "metadata": {},
   "outputs": [
    {
     "name": "stdout",
     "output_type": "stream",
     "text": [
      "What's your nameugochukwu\n",
      "Hello ugochukwu\n"
     ]
    }
   ],
   "source": [
    "person = input(\"What's your name\")\n",
    "print(\"Hello\", person)"
   ]
  },
  {
   "cell_type": "code",
   "execution_count": 11,
   "id": "577e1042",
   "metadata": {},
   "outputs": [
    {
     "name": "stdout",
     "output_type": "stream",
     "text": [
      "906\n"
     ]
    }
   ],
   "source": [
    "x = 6\n",
    "y = x + 900\n",
    "print(y)"
   ]
  },
  {
   "cell_type": "code",
   "execution_count": null,
   "id": "f5fb9ea7",
   "metadata": {},
   "outputs": [],
   "source": [
    "print(\"input your name\")\n",
    "let name = input()\n",
    "print(\"ah , so you're\" ,name \"i heard you like kids \" )"
   ]
  },
  {
   "cell_type": "code",
   "execution_count": 20,
   "id": "5c4b9084",
   "metadata": {},
   "outputs": [
    {
     "name": "stdout",
     "output_type": "stream",
     "text": [
      "What's your name\n",
      "Ugochukwu\n",
      "ah , so you're Ugochukwu\n"
     ]
    }
   ],
   "source": [
    "print(\"What's your name\")\n",
    "name = input()\n",
    "print(\"ah , so you're\" ,name )"
   ]
  },
  {
   "cell_type": "code",
   "execution_count": 25,
   "id": "bfc2ddc1",
   "metadata": {},
   "outputs": [
    {
     "name": "stdout",
     "output_type": "stream",
     "text": [
      "Two digit number\n"
     ]
    }
   ],
   "source": [
    "num = 15\n",
    "\n",
    "\n",
    "if 9 < num < 99:\n",
    "  print(\"Two digit number\")\n",
    "\n",
    "elif 99 < num < 999 :\n",
    "    print(\"three digit number\")"
   ]
  },
  {
   "cell_type": "code",
   "execution_count": null,
   "id": "de4cd211",
   "metadata": {},
   "outputs": [],
   "source": []
  }
 ],
 "metadata": {
  "kernelspec": {
   "display_name": "Python 3 (ipykernel)",
   "language": "python",
   "name": "python3"
  },
  "language_info": {
   "codemirror_mode": {
    "name": "ipython",
    "version": 3
   },
   "file_extension": ".py",
   "mimetype": "text/x-python",
   "name": "python",
   "nbconvert_exporter": "python",
   "pygments_lexer": "ipython3",
   "version": "3.9.12"
  }
 },
 "nbformat": 4,
 "nbformat_minor": 5
}
