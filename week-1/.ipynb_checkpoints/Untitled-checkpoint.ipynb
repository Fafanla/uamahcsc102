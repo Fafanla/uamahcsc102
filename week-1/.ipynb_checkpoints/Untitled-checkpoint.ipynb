{
 "cells": [
  {
   "cell_type": "code",
   "execution_count": 1,
   "id": "44c6ee6a",
   "metadata": {},
   "outputs": [
    {
     "name": "stdout",
     "output_type": "stream",
     "text": [
      "enter principal30\n",
      "enter rate70\n",
      "enter time3\n",
      "Simple interest is : 63.0\n",
      "Amount is : 93.0\n"
     ]
    }
   ],
   "source": [
    "principal = int (input(\"enter principal\"))\n",
    "rate = int (input(\"enter rate\"))\n",
    "time = int(input(\"enter time\"))\n",
    "si = (principal*rate*time)/100\n",
    "amount = principal + si\n",
    "print (\"Simple interest is :\",si )\n",
    "print (\"Amount is :\", amount)\n"
   ]
  },
  {
   "cell_type": "code",
   "execution_count": 3,
   "id": "39569853",
   "metadata": {},
   "outputs": [
    {
     "name": "stdout",
     "output_type": "stream",
     "text": [
      "enter principal34\n",
      "enter rate24\n",
      "enter no of times interest applied23\n",
      "enter time34\n",
      "A is equal to 13756580.8239623\n",
      "the compound interest is equal to  13756546.8239623\n"
     ]
    }
   ],
   "source": [
    "'''\n",
    "this is the code for compound interest \n",
    "\n",
    "'''\n",
    "\n",
    "principal = int(input(\"enter principal\"))\n",
    "rate = int(input(\"enter rate\"))\n",
    "no = int(input(\"enter no of times interest applied\"))\n",
    "time = int(input(\"enter time\"))\n",
    "A = principal*(1 + rate/no)**no/time\n",
    "CI = A-principal\n",
    "print(\"A is equal to\", A)\n",
    "print(\"the compound interest is equal to \",CI)"
   ]
  },
  {
   "cell_type": "code",
   "execution_count": 8,
   "id": "ce675c80",
   "metadata": {},
   "outputs": [
    {
     "name": "stdout",
     "output_type": "stream",
     "text": [
      "enter principal23\n",
      "enter rate43\n",
      "enter time23\n",
      "enter dollar amount for each year23\n",
      "enter number of periods in which payments are made23\n",
      "your annuity plan is equal to 9582643720647.268\n",
      "9582643720624.268\n"
     ]
    }
   ],
   "source": [
    "'''\n",
    "this is the code to calculate annuity plan\n",
    "'''\n",
    "p = int(input(\"enter principal\"))\n",
    "r = int(input(\"enter rate\"))\n",
    "t = int(input(\"enter time\"))\n",
    "PMT = int(input(\"enter dollar amount for each year\"))\n",
    "n = int(input(\"enter number of periods in which payments are made\"))\n",
    "A = PMT*(((1+ r/n)**n*t - (1))/(r/n))\n",
    "AP = A - p\n",
    "print(\"your annuity plan is equal to\" , A)\n",
    "print(AP)\n"
   ]
  },
  {
   "cell_type": "code",
   "execution_count": null,
   "id": "a9b81a23",
   "metadata": {},
   "outputs": [],
   "source": []
  }
 ],
 "metadata": {
  "kernelspec": {
   "display_name": "Python 3 (ipykernel)",
   "language": "python",
   "name": "python3"
  },
  "language_info": {
   "codemirror_mode": {
    "name": "ipython",
    "version": 3
   },
   "file_extension": ".py",
   "mimetype": "text/x-python",
   "name": "python",
   "nbconvert_exporter": "python",
   "pygments_lexer": "ipython3",
   "version": "3.9.12"
  }
 },
 "nbformat": 4,
 "nbformat_minor": 5
}
