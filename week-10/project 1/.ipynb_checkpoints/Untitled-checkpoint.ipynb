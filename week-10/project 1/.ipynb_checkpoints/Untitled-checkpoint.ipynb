{
 "cells": [
  {
   "cell_type": "code",
   "execution_count": 14,
   "id": "55902d1f",
   "metadata": {},
   "outputs": [],
   "source": [
    "cost_of_oranges = 100\n",
    "stock_no = 250\n",
    "\n",
    "class Oranges :\n",
    "    def __init__(self,amount):\n",
    "        self.amount = amount\n",
    "        \n",
    "        \n",
    "        \n",
    "    def cost_of_items(self): \n",
    "        amount = int(input(\"Enter your desired amount of oranges  \"))\n",
    "        if amount < stock_no :\n",
    "                cost_no = amount * cost_of_oranges\n",
    "                print(\"the cost of your items is  \",cost_no)\n",
    "        elif amount == stock_no :\n",
    "            cost_no = amount * cost_of_oranges\n",
    "            print(\"the cost of your items is  \",cost_no)\n",
    "        else :\n",
    "            print(\"Maximum quantity limit reached\")\n",
    "            print(\"please select a lesser quantity\")\n",
    "             \n",
    "        return\n",
    "    \n",
    "    \n",
    "    \n",
    "              "
   ]
  },
  {
   "cell_type": "code",
   "execution_count": 22,
   "id": "f55cbc7f",
   "metadata": {},
   "outputs": [
    {
     "name": "stdout",
     "output_type": "stream",
     "text": [
      "do you wish to buy oranges ?\n",
      "Enter your desired amount of oranges  200\n",
      "the cost of your items is   20000\n"
     ]
    }
   ],
   "source": [
    "cost_1 =print(\"do you wish to buy oranges ?\")\n",
    "price = Oranges(cost_1)\n",
    "\n",
    "price.cost_of_items()"
   ]
  },
  {
   "cell_type": "code",
   "execution_count": null,
   "id": "5e60ad64",
   "metadata": {},
   "outputs": [],
   "source": []
  }
 ],
 "metadata": {
  "kernelspec": {
   "display_name": "Python 3 (ipykernel)",
   "language": "python",
   "name": "python3"
  },
  "language_info": {
   "codemirror_mode": {
    "name": "ipython",
    "version": 3
   },
   "file_extension": ".py",
   "mimetype": "text/x-python",
   "name": "python",
   "nbconvert_exporter": "python",
   "pygments_lexer": "ipython3",
   "version": "3.9.12"
  }
 },
 "nbformat": 4,
 "nbformat_minor": 5
}
