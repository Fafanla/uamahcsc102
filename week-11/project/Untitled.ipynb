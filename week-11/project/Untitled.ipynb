{
 "cells": [
  {
   "cell_type": "code",
   "execution_count": 16,
   "id": "b045c7de",
   "metadata": {},
   "outputs": [
    {
     "name": "stdout",
     "output_type": "stream",
     "text": [
      "MatNo, Name, Age, Grade\n",
      "1810, Aina Adeleke, 16, 80\n",
      "1811, Sola Egbune, 23, 55\n",
      "1812, Callistus Okeke, 17, 40\n",
      "1813, Martin Alegbe, 25, 77\n",
      "1814, Mary Akande, 20, 87\n",
      "1815, Stella Olohimen, 17, 44\n",
      "1816, Gabriel Pati, 18, 50\n",
      "1817, Durojaiye Adamu, 24, 60\n",
      "1818, Kolawole Alabi, 18, 67\n",
      "1819, Tope Ogunleye, 22, 54\n",
      "1820, Wilfred Nwachukwu, 16, 45\n",
      "1821, Mildred James, 15, 70\n",
      "1822, Glory Babalola, 21, 69\n",
      "1823, Edith Ade, 22, 57\n",
      "1824, Godwin Osahon, 20, 51\n",
      "1825, Philip Odion, 19, 68\n"
     ]
    }
   ],
   "source": [
    "#importing/reading out  a  csv file \n",
    "\n",
    "import csv\n",
    "\n",
    "def read_csv_file(sis_csv):\n",
    "    with open(\"sis.csv\", 'r') as csv_file:\n",
    "        csv_reader = csv.reader(csv_file)\n",
    "        for row in csv_reader:\n",
    "            print(', '.join(row))\n",
    "\n",
    "# Example usage:\n",
    "file_path = 'example.csv'  # Replace with your actual CSV file path\n",
    "read_csv_file(file_path)\n"
   ]
  },
  {
   "cell_type": "code",
   "execution_count": 22,
   "id": "9eeacddb",
   "metadata": {},
   "outputs": [
    {
     "name": "stdout",
     "output_type": "stream",
     "text": [
      "Enter your name: uvo\n",
      "Enter your age: 45\n"
     ]
    },
    {
     "ename": "NameError",
     "evalue": "name 'sis_csv' is not defined",
     "output_type": "error",
     "traceback": [
      "\u001b[1;31m---------------------------------------------------------------------------\u001b[0m",
      "\u001b[1;31mNameError\u001b[0m                                 Traceback (most recent call last)",
      "Input \u001b[1;32mIn [22]\u001b[0m, in \u001b[0;36m<cell line: 17>\u001b[1;34m()\u001b[0m\n\u001b[0;32m     14\u001b[0m age \u001b[38;5;241m=\u001b[39m \u001b[38;5;28minput\u001b[39m(\u001b[38;5;124m\"\u001b[39m\u001b[38;5;124mEnter your age: \u001b[39m\u001b[38;5;124m\"\u001b[39m)\n\u001b[0;32m     16\u001b[0m \u001b[38;5;66;03m# Check if the provided information exists in the CSV file\u001b[39;00m\n\u001b[1;32m---> 17\u001b[0m \u001b[38;5;28;01mif\u001b[39;00m check_csv(\u001b[43msis_csv\u001b[49m, name, age):\n\u001b[0;32m     18\u001b[0m     \u001b[38;5;28mprint\u001b[39m(\u001b[38;5;124m\"\u001b[39m\u001b[38;5;124mYou are in the CSV file.\u001b[39m\u001b[38;5;124m\"\u001b[39m)\n\u001b[0;32m     19\u001b[0m \u001b[38;5;28;01melse\u001b[39;00m:\n",
      "\u001b[1;31mNameError\u001b[0m: name 'sis_csv' is not defined"
     ]
    }
   ],
   "source": [
    "import csv\n",
    "\n",
    "def check_csv(sis_csv, name, age):\n",
    "    with open(\"sis.csv\", 'r') as csv_file:\n",
    "        csv_reader = csv.reader(csv_file)\n",
    "        for row in csv_reader:\n",
    "            if row[0] == name and row[1] == age:\n",
    "                return True\n",
    "    return False\n",
    "\n",
    "\n",
    " \n",
    "name = input(\"Enter your name: \")\n",
    "age = input(\"Enter your age: \")\n",
    "\n",
    "\n",
    "if check_csv(sis_csv, name, age):\n",
    "    print(\"You are in the CSV file.\")\n",
    "else:\n",
    "    print(\"You are not in the CSV file.\")"
   ]
  },
  {
   "cell_type": "code",
   "execution_count": null,
   "id": "a92ae32c",
   "metadata": {},
   "outputs": [],
   "source": []
  },
  {
   "cell_type": "code",
   "execution_count": 26,
   "id": "0317466b",
   "metadata": {},
   "outputs": [
    {
     "ename": "SyntaxError",
     "evalue": "invalid syntax (4118013608.py, line 13)",
     "output_type": "error",
     "traceback": [
      "\u001b[1;36m  Input \u001b[1;32mIn [26]\u001b[1;36m\u001b[0m\n\u001b[1;33m    def read_sis_data(self, 'sis.csv'):\u001b[0m\n\u001b[1;37m                            ^\u001b[0m\n\u001b[1;31mSyntaxError\u001b[0m\u001b[1;31m:\u001b[0m invalid syntax\n"
     ]
    }
   ],
   "source": [
    "import csv\n",
    "import pandas as pd\n",
    "\n",
    "class Student:\n",
    "    def __init__(self, name, age, grade):\n",
    "        self.name = name\n",
    "        self.age = int(age)\n",
    "        self.grade = grade\n",
    "\n",
    "class SISClassifier:\n",
    "    def __init__(self):\n",
    "        self.students = ()\n",
    "\n",
    "    def read_sis_data(self, 'sis.csv'):\n",
    "        with open(file_path, 'r') as csv_file:\n",
    "            csv_reader = csv.reader(csv_file)\n",
    "            next(csv_reader)  # Skip the header row\n",
    "            for row in csv_reader:\n",
    "                name, age, grade = row\n",
    "                student = Student(name, age, grade)\n",
    "                self.students.append(student)\n",
    "\n",
    "    def classify_students(self):\n",
    "        pirates = ()\n",
    "        yankees = ()\n",
    "        bulls = ()\n",
    "\n",
    "        for student in self.students:\n",
    "            if 14 < student.age < 18:\n",
    "                pirates.append(student)\n",
    "            elif 18 < student.age < 22:\n",
    "                yankees.append(student)\n",
    "            elif student.age > 22:\n",
    "                bulls.append(student)\n",
    "\n",
    "        self.export_to_csv(pirates, 'The_Pirates.csv')\n",
    "        self.export_to_csv(yankees, 'The_Yankees.csv')\n",
    "        self.export_to_csv(bulls, 'The_Bulls.csv')\n",
    "\n",
    "    def export_to_csv(self, students, 'sis.csv'):\n",
    "        with open(file_path, 'w', newline='') as csv_file:\n",
    "            csv_writer = csv.writer(csv_file)\n",
    "            csv_writer.writerow(['Name', 'Age', 'Grade'])\n",
    "            for student in students:\n",
    "                csv_writer.writerow([student.name, student.age, student.grade])\n",
    "\n",
    "# Example usage:\n",
    "file_path = 'sis.csv'  # Replace with the actual file path of the sis.csv file\n",
    "\n",
    "classifier = SISClassifier()\n",
    "classifier.read_sis_data('sis.csv')\n",
    "classifier.classify_students()\n"
   ]
  },
  {
   "cell_type": "code",
   "execution_count": null,
   "id": "045164f8",
   "metadata": {},
   "outputs": [],
   "source": []
  }
 ],
 "metadata": {
  "kernelspec": {
   "display_name": "Python 3 (ipykernel)",
   "language": "python",
   "name": "python3"
  },
  "language_info": {
   "codemirror_mode": {
    "name": "ipython",
    "version": 3
   },
   "file_extension": ".py",
   "mimetype": "text/x-python",
   "name": "python",
   "nbconvert_exporter": "python",
   "pygments_lexer": "ipython3",
   "version": "3.9.12"
  }
 },
 "nbformat": 4,
 "nbformat_minor": 5
}
