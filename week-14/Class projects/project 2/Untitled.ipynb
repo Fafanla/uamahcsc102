{
 "cells": [
  {
   "cell_type": "code",
   "execution_count": 1,
   "id": "396c8060",
   "metadata": {},
   "outputs": [],
   "source": [
    "import psycopg2 \n",
    "\n",
    "conn = psycopg2.connect(\n",
    "    host=\"localhost\",\n",
    "    port=\"5432\",\n",
    "    user=\"postgres\",\n",
    "    password=\"csc101\"\n",
    ")\n",
    "\n",
    "\n",
    "new_db_name = \"comp_sci_dpt\"\n",
    "conn.autocommit = True\n",
    "cursor = conn.cursor()\n",
    "cursor.execute(f\"CREATE DATABASE {'comp_sci_dpt'};\")\n",
    "\n",
    "cursor.close()\n",
    "\n",
    "\n",
    "# Close the connection\n",
    "conn.close()"
   ]
  },
  {
   "cell_type": "code",
   "execution_count": 2,
   "id": "201877ce",
   "metadata": {},
   "outputs": [],
   "source": [
    "conn = psycopg2.connect(\n",
    "    host=\"localhost\",\n",
    "    port=\"5432\",\n",
    "    database=\"comp_sci_dpt\",\n",
    "    user=\"postgres\",\n",
    "    password=\"csc101\"\n",
    ")\n",
    "\n",
    "cursor = conn.cursor()\n",
    "\n",
    "\n",
    "create_table_query = '''\n",
    "    CREATE TABLE student_info (\n",
    "        name varchar  \n",
    "     )\n",
    "'''\n",
    "\n",
    "\n",
    "cursor.execute(create_table_query)\n",
    "\n",
    "\n",
    "\n",
    "conn.commit()\n",
    "\n",
    "\n",
    "cursor.close()\n",
    "conn.close()"
   ]
  },
  {
   "cell_type": "code",
   "execution_count": 3,
   "id": "3c242e11",
   "metadata": {},
   "outputs": [
    {
     "ename": "TypeError",
     "evalue": "not all arguments converted during string formatting",
     "output_type": "error",
     "traceback": [
      "\u001b[1;31m---------------------------------------------------------------------------\u001b[0m",
      "\u001b[1;31mTypeError\u001b[0m                                 Traceback (most recent call last)",
      "Input \u001b[1;32mIn [3]\u001b[0m, in \u001b[0;36m<cell line: 25>\u001b[1;34m()\u001b[0m\n\u001b[0;32m     16\u001b[0m insert_query \u001b[38;5;241m=\u001b[39m \u001b[38;5;124m'''\u001b[39m\n\u001b[0;32m     17\u001b[0m \u001b[38;5;124m    INSERT INTO csc102_class_list (name)\u001b[39m\n\u001b[0;32m     18\u001b[0m \u001b[38;5;124m    VALUES (\u001b[39m\u001b[38;5;132;01m%s\u001b[39;00m\u001b[38;5;124m)\u001b[39m\n\u001b[0;32m     19\u001b[0m \u001b[38;5;124m'''\u001b[39m\n\u001b[0;32m     22\u001b[0m values \u001b[38;5;241m=\u001b[39m (\u001b[38;5;124m'\u001b[39m\u001b[38;5;124mcsc102_class_list_II\u001b[39m\u001b[38;5;124m'\u001b[39m)\n\u001b[1;32m---> 25\u001b[0m \u001b[43mcursor\u001b[49m\u001b[38;5;241;43m.\u001b[39;49m\u001b[43mexecute\u001b[49m\u001b[43m(\u001b[49m\u001b[43minsert_query\u001b[49m\u001b[43m,\u001b[49m\u001b[43m \u001b[49m\u001b[43mvalues\u001b[49m\u001b[43m)\u001b[49m\n\u001b[0;32m     28\u001b[0m conn\u001b[38;5;241m.\u001b[39mcommit()\n\u001b[0;32m     31\u001b[0m cursor\u001b[38;5;241m.\u001b[39mclose()\n",
      "\u001b[1;31mTypeError\u001b[0m: not all arguments converted during string formatting"
     ]
    }
   ],
   "source": [
    "import psycopg2\n",
    "\n",
    "# Establish a connection to the PostgreSQL server\n",
    "conn = psycopg2.connect(\n",
    "    host=\"localhost\",\n",
    "    port=\"5432\",\n",
    "    database=\"comp_sci_dpt\",\n",
    "    user=\"postgres\",\n",
    "    password=\"csc101\"\n",
    ")\n",
    "\n",
    "\n",
    "cursor = conn.cursor()\n",
    "\n",
    "\n",
    "insert_query = '''\n",
    "    INSERT INTO csc102_class_list (name)\n",
    "    VALUES (%s)\n",
    "'''\n",
    "\n",
    "\n",
    "values = ('csc102_class_list_II')\n",
    "\n",
    "\n",
    "cursor.execute(insert_query, values)\n",
    "\n",
    "\n",
    "conn.commit()\n",
    "\n",
    "\n",
    "cursor.close()\n",
    "conn.close()"
   ]
  },
  {
   "cell_type": "code",
   "execution_count": null,
   "id": "b0a7c160",
   "metadata": {},
   "outputs": [],
   "source": []
  }
 ],
 "metadata": {
  "kernelspec": {
   "display_name": "Python 3 (ipykernel)",
   "language": "python",
   "name": "python3"
  },
  "language_info": {
   "codemirror_mode": {
    "name": "ipython",
    "version": 3
   },
   "file_extension": ".py",
   "mimetype": "text/x-python",
   "name": "python",
   "nbconvert_exporter": "python",
   "pygments_lexer": "ipython3",
   "version": "3.9.12"
  }
 },
 "nbformat": 4,
 "nbformat_minor": 5
}
