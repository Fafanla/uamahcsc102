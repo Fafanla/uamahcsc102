{
 "cells": [
  {
   "cell_type": "code",
   "execution_count": null,
   "id": "6481fcef",
   "metadata": {},
   "outputs": [
    {
     "name": "stdout",
     "output_type": "stream",
     "text": [
      "enter value of A :23\n",
      "enter value of B :2.4\n",
      "enter  value of C :23.\n"
     ]
    }
   ],
   "source": [
    "'''\n",
    "Project 2\n",
    "Roots for a cubic equation\n",
    "Ax^3 + Bx^2 + Cx + D = 0 \n",
    "'''\n",
    "import cmath\n",
    "import numpy as np\n",
    "\n",
    "A = float(input(\"enter value of A :\"))\n",
    "B = float(input(\"enter value of B :\"))\n",
    "C = float(input(\"enter  value of C :\"))\n",
    "D = float(input(\"enter  value of D :\"))\n",
    "\n"
   ]
  },
  {
   "cell_type": "code",
   "execution_count": null,
   "id": "ca3c1645",
   "metadata": {},
   "outputs": [],
   "source": []
  },
  {
   "cell_type": "code",
   "execution_count": null,
   "id": "cb6a98ca",
   "metadata": {},
   "outputs": [],
   "source": []
  },
  {
   "cell_type": "code",
   "execution_count": null,
   "id": "821e17cf",
   "metadata": {},
   "outputs": [],
   "source": []
  }
 ],
 "metadata": {
  "kernelspec": {
   "display_name": "Python 3 (ipykernel)",
   "language": "python",
   "name": "python3"
  },
  "language_info": {
   "codemirror_mode": {
    "name": "ipython",
    "version": 3
   },
   "file_extension": ".py",
   "mimetype": "text/x-python",
   "name": "python",
   "nbconvert_exporter": "python",
   "pygments_lexer": "ipython3",
   "version": "3.9.12"
  }
 },
 "nbformat": 4,
 "nbformat_minor": 5
}
