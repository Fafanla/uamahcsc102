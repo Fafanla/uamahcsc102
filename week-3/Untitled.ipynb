{
 "cells": [
  {
   "cell_type": "code",
   "execution_count": 9,
   "id": "802e788e",
   "metadata": {},
   "outputs": [
    {
     "name": "stdout",
     "output_type": "stream",
     "text": [
      "enter value of A :23\n",
      "enter value of B :2.4\n",
      "enter  value of C :23.\n",
      "enter  value of D :2.5\n"
     ]
    }
   ],
   "source": [
    "'''\n",
    "Project 2\n",
    "Roots for a cubic equation\n",
    "Ax^3 + Bx^2 + Cx + D = 0 \n",
    "'''\n",
    "import cmath\n",
    "import numpy as np\n",
    "\n",
    "A = float(input(\"enter value of A :\"))\n",
    "B = float(input(\"enter value of B :\"))\n",
    "C = float(input(\"enter  value of C :\"))\n",
    "D = float(input(\"enter  value of D :\"))\n",
    "\n",
    "def f(x):\n",
    "\n"
   ]
  },
  {
   "cell_type": "code",
   "execution_count": null,
   "id": "fba35200",
   "metadata": {},
   "outputs": [],
   "source": []
  },
  {
   "cell_type": "code",
   "execution_count": null,
   "id": "0dd68a4b",
   "metadata": {},
   "outputs": [],
   "source": []
  },
  {
   "cell_type": "code",
   "execution_count": null,
   "id": "12fdf37f",
   "metadata": {},
   "outputs": [],
   "source": []
  }
 ],
 "metadata": {
  "kernelspec": {
   "display_name": "Python 3 (ipykernel)",
   "language": "python",
   "name": "python3"
  },
  "language_info": {
   "codemirror_mode": {
    "name": "ipython",
    "version": 3
   },
   "file_extension": ".py",
   "mimetype": "text/x-python",
   "name": "python",
   "nbconvert_exporter": "python",
   "pygments_lexer": "ipython3",
   "version": "3.9.12"
  }
 },
 "nbformat": 4,
 "nbformat_minor": 5
}
