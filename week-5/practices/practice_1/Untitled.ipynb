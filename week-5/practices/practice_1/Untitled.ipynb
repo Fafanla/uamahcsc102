{
 "cells": [
  {
   "cell_type": "code",
   "execution_count": 1,
   "id": "bf46f15a",
   "metadata": {},
   "outputs": [
    {
     "name": "stdout",
     "output_type": "stream",
     "text": [
      "Enter name of city1 : lagos\n",
      "Enter name of city2 : enugu\n",
      "the name of City 1 after swapping is enugu\n",
      "the name of City 2 after swapping is lagos\n"
     ]
    }
   ],
   "source": [
    "# python program to swap two cities \n",
    "\n",
    "\n",
    "# to take inputs from the user\n",
    "\n",
    "city_1 = input(\"Enter name of city1 : \")\n",
    "city_2 = input(\"Enter name of city2 : \")\n",
    "\n",
    "\n",
    "# create a temporary variable and swap the cities\n",
    "\n",
    "temp = city_1\n",
    "city_1 = city_2\n",
    "city_2 = temp\n",
    "\n",
    "print(f\"the name of City 1 after swapping is {city_1}\")\n",
    "print(f\"the name of City 2 after swapping is {city_2}\")\n",
    "\n"
   ]
  },
  {
   "cell_type": "code",
   "execution_count": null,
   "id": "748204b6",
   "metadata": {},
   "outputs": [],
   "source": []
  }
 ],
 "metadata": {
  "kernelspec": {
   "display_name": "Python 3 (ipykernel)",
   "language": "python",
   "name": "python3"
  },
  "language_info": {
   "codemirror_mode": {
    "name": "ipython",
    "version": 3
   },
   "file_extension": ".py",
   "mimetype": "text/x-python",
   "name": "python",
   "nbconvert_exporter": "python",
   "pygments_lexer": "ipython3",
   "version": "3.9.12"
  }
 },
 "nbformat": 4,
 "nbformat_minor": 5
}
