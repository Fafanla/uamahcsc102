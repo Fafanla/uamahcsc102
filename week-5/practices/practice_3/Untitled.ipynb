{
 "cells": [
  {
   "cell_type": "code",
   "execution_count": 5,
   "id": "360ac97e",
   "metadata": {},
   "outputs": [
    {
     "name": "stdout",
     "output_type": "stream",
     "text": [
      "Welcome to the COUPE DE ESCARIVA 2023: FOOTBALL PICKS /n\n",
      "Madiba  Chubby Obiora-Okafo\n",
      "Blue-Jays: Christopher Uweh\n",
      "Cirok: Alexander\n",
      "TSG Walkers: Ikechukwu\n",
      "\n",
      "\n",
      "Madiba  Chubby Obiora-Okafo\n",
      "Blue-Jays: Oladimeji Abaniwondea/Jeffery Awagu\n",
      "Cirok: Timileyin Pearse/Izuako Jeremy\n",
      "TSG Walkers: Ayomide Ojituku\n"
     ]
    }
   ],
   "source": [
    "# COUPE DE ESCARIVA 2023: FOOTBALL PICKS\n",
    "\n",
    "\n",
    "print(\"Welcome to the COUPE DE ESCARIVA 2023: FOOTBALL PICKS /n\")\n",
    "\n",
    "Captains = {'Madiba ': 'Chubby Obiora-Okafo', 'Blue-Jays:': 'Christopher Uweh',\n",
    "            'Cirok:': 'Alexander', 'TSG Walkers:': 'Ikechukwu'}\n",
    "Goalkeepers = {'Madiba ': 'Chubby Obiora-Okafo', 'Blue-Jays:': 'Oladimeji Abaniwondea/Jeffery Awagu',\n",
    "            'Cirok:': 'Timileyin Pearse/Izuako Jeremy', 'TSG Walkers:': 'Ayomide Ojituku'}\n",
    "\n",
    "\n",
    "for pick in Captains:\n",
    "  print(pick , Captains[pick])\n",
    "    \n",
    "print(\"\\n\")\n",
    "\n",
    "for pick in Goalkeepers:\n",
    "   print(pick , Goalkeepers[pick])"
   ]
  },
  {
   "cell_type": "code",
   "execution_count": 5,
   "id": "70dd52df",
   "metadata": {},
   "outputs": [
    {
     "name": "stdout",
     "output_type": "stream",
     "text": [
      "1\n",
      "2\n",
      "3\n",
      "4\n",
      "5\n"
     ]
    }
   ],
   "source": [
    "count = 1\n",
    "while count <= 5:\n",
    "    print(count)\n",
    "    count += 1"
   ]
  },
  {
   "cell_type": "code",
   "execution_count": 11,
   "id": "e91b6f5f",
   "metadata": {},
   "outputs": [
    {
     "name": "stdout",
     "output_type": "stream",
     "text": [
      "enter the numbers to find their sum, negative numbers end the loop\n",
      "2\n",
      "3\n",
      "4\n",
      "-4\n",
      "Sum =  9\n"
     ]
    }
   ],
   "source": [
    "entry = 0 \n",
    "sum1 = 0\n",
    "print(\"enter the numbers to find their sum, negative numbers end the loop\")\n",
    "while True :\n",
    "    entry = int(input())\n",
    "    if entry < 0 :\n",
    "            break\n",
    "    sum1 += entry\n",
    "print(\"Sum = \",sum1)    "
   ]
  },
  {
   "cell_type": "markdown",
   "id": "7e33b801",
   "metadata": {},
   "source": [
    "4\n",
    "4#### "
   ]
  }
 ],
 "metadata": {
  "kernelspec": {
   "display_name": "Python 3 (ipykernel)",
   "language": "python",
   "name": "python3"
  },
  "language_info": {
   "codemirror_mode": {
    "name": "ipython",
    "version": 3
   },
   "file_extension": ".py",
   "mimetype": "text/x-python",
   "name": "python",
   "nbconvert_exporter": "python",
   "pygments_lexer": "ipython3",
   "version": "3.9.12"
  }
 },
 "nbformat": 4,
 "nbformat_minor": 5
}
