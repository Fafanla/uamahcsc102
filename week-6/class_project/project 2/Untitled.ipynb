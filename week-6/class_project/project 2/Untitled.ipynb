{
 "cells": [
  {
   "cell_type": "code",
   "execution_count": 5,
   "id": "fc45bb39",
   "metadata": {},
   "outputs": [],
   "source": [
    "import pandas as pd\n",
    "\n",
    "\n",
    "Cadbury_Market = {'Exports': [\"Cocoa Butter\",\"Cake and Liquor\",\"Cocoa Powder\"],\n",
    "                    'Segments': [\"Refeshment Beverages Cocoa Products\",\"Confectionary Cocoa Products\",\"Intermediate Cocoa Products\"],\n",
    "                   'Brands':[\"CADBURY BOURNVITA and CADBURY 3-in-1 HOT CHOCOLATE\",\"TOMTOM CLASSIC, TOMTOM STRAWBERRY and BUTTERMINT.\",\n",
    "                             \"COCOA POWDER and COCOA BUTTER.\"]}\n",
    "                       \n",
    "       \n",
    "df = pd.DataFrame(Cadbury_Market)\n",
    "df.to_csv ('Cadbury_Market.csv')\n",
    "\n"
   ]
  },
  {
   "cell_type": "code",
   "execution_count": null,
   "id": "4f83bd38",
   "metadata": {},
   "outputs": [],
   "source": []
  },
  {
   "cell_type": "code",
   "execution_count": null,
   "id": "c6ad2f52",
   "metadata": {},
   "outputs": [],
   "source": []
  }
 ],
 "metadata": {
  "kernelspec": {
   "display_name": "Python 3 (ipykernel)",
   "language": "python",
   "name": "python3"
  },
  "language_info": {
   "codemirror_mode": {
    "name": "ipython",
    "version": 3
   },
   "file_extension": ".py",
   "mimetype": "text/x-python",
   "name": "python",
   "nbconvert_exporter": "python",
   "pygments_lexer": "ipython3",
   "version": "3.9.12"
  }
 },
 "nbformat": 4,
 "nbformat_minor": 5
}
