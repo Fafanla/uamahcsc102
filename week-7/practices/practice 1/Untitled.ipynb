{
 "cells": [
  {
   "cell_type": "code",
   "execution_count": 3,
   "id": "5162168e",
   "metadata": {},
   "outputs": [
    {
     "name": "stdout",
     "output_type": "stream",
     "text": [
      "I'm first to call use defined function\n",
      "Again second call to the same function\n"
     ]
    }
   ],
   "source": [
    "def printme(str):\n",
    "    print (str) ;\n",
    "    return ;\n",
    "    \n",
    "printme(\"I'm first to call use defined function\");\n",
    "printme(\"Again second call to the same function\");   \n",
    "\n",
    "     "
   ]
  },
  {
   "cell_type": "code",
   "execution_count": 17,
   "id": "fc97b5de",
   "metadata": {},
   "outputs": [
    {
     "name": "stdout",
     "output_type": "stream",
     "text": [
      "Values inside the function:  [10, 20, 30, [1, 2, 3, 4]]\n",
      "Values outside the function [10, 20, 30, [1, 2, 3, 4]]\n"
     ]
    }
   ],
   "source": [
    "def changeme(mylist):\n",
    "    mylist.append ([1,2,3,4])\n",
    "    print(\"Values inside the function: \",mylist)\n",
    "    return\n",
    "  \n",
    "mylist = [10,20,30]\n",
    "changeme(mylist)\n",
    "print(\"Values outside the function\",mylist)\n",
    "    \n",
    "    "
   ]
  },
  {
   "cell_type": "code",
   "execution_count": 30,
   "id": "617f3c16",
   "metadata": {},
   "outputs": [
    {
     "name": "stdout",
     "output_type": "stream",
     "text": [
      "My string\n"
     ]
    }
   ],
   "source": [
    "def printme(str):\n",
    "    print(str);\n",
    "    return;\n",
    "printme(str = \"My string\");"
   ]
  },
  {
   "cell_type": "code",
   "execution_count": 35,
   "id": "f57e21f6",
   "metadata": {},
   "outputs": [
    {
     "name": "stdout",
     "output_type": "stream",
     "text": [
      "Name :  miki\n",
      "Age : 50\n",
      "Name :  miki\n",
      "Age : 35\n"
     ]
    }
   ],
   "source": [
    "def printinfo(name , age=35):\n",
    "    print(\"Name : \",name);\n",
    "    print(\"Age :\",age);\n",
    "    return;\n",
    "\n",
    "printinfo(age = 50, name='miki')\n",
    "printinfo(name='miki')\n",
    "    \n",
    "     "
   ]
  },
  {
   "cell_type": "code",
   "execution_count": 6,
   "id": "3a9835da",
   "metadata": {},
   "outputs": [
    {
     "name": "stdout",
     "output_type": "stream",
     "text": [
      "Output is : \n",
      "10\n",
      "Output is : \n",
      "70\n",
      "60\n"
     ]
    }
   ],
   "source": [
    "def printinfo (arg1, *vartuple):\n",
    "    print(\"Output is : \")\n",
    "    print (arg1)\n",
    "    for var in vartuple:\n",
    "        print (var)\n",
    "        return;\n",
    "        \n",
    "printinfo(10); \n",
    "printinfo(70,60,50);\n"
   ]
  },
  {
   "cell_type": "code",
   "execution_count": 15,
   "id": "838fd286",
   "metadata": {},
   "outputs": [
    {
     "name": "stdout",
     "output_type": "stream",
     "text": [
      "Inside the function local total : 30\n",
      "Outside the function global total : 50\n"
     ]
    }
   ],
   "source": [
    "total=50;\n",
    "def sum(arg1,arg2):\n",
    "    total = arg1 + arg2 ;\n",
    "    print (\"Inside the function local total :\", total)\n",
    "    return total ;\n",
    "sum(10,20);\n",
    "print (\"Outside the function global total :\",total) "
   ]
  },
  {
   "cell_type": "code",
   "execution_count": 12,
   "id": "d5b528a2",
   "metadata": {},
   "outputs": [
    {
     "name": "stdout",
     "output_type": "stream",
     "text": [
      "lawal edward tolu tina\n",
      "mary\n"
     ]
    }
   ],
   "source": [
    "def swap(x,y):  \n",
    "    global a\n",
    "    a = \"lawal\"\n",
    "    x,y = y,x\n",
    "    b = \"chris\"\n",
    "    b = \"edward\"\n",
    "    c = \"lola\"\n",
    "    print(a,b,x,y)\n",
    "    a = \"mary\"\n",
    "swap(\"tina\",\"tolu\")\n",
    "print(a)\n",
    "    \n",
    "     \n",
    "    "
   ]
  },
  {
   "cell_type": "code",
   "execution_count": 8,
   "id": "5eae3e37",
   "metadata": {},
   "outputs": [
    {
     "name": "stdout",
     "output_type": "stream",
     "text": [
      "lawal edward tolu tina\n"
     ]
    },
    {
     "ename": "NameError",
     "evalue": "name 'mary' is not defined",
     "output_type": "error",
     "traceback": [
      "\u001b[1;31m---------------------------------------------------------------------------\u001b[0m",
      "\u001b[1;31mNameError\u001b[0m                                 Traceback (most recent call last)",
      "Input \u001b[1;32mIn [8]\u001b[0m, in \u001b[0;36m<cell line: 1>\u001b[1;34m()\u001b[0m\n\u001b[1;32m----> 1\u001b[0m a \u001b[38;5;241m=\u001b[39m \u001b[43mswap\u001b[49m\u001b[43m(\u001b[49m\u001b[38;5;124;43m\"\u001b[39;49m\u001b[38;5;124;43mtina\u001b[39;49m\u001b[38;5;124;43m\"\u001b[39;49m\u001b[43m,\u001b[49m\u001b[38;5;124;43m\"\u001b[39;49m\u001b[38;5;124;43mtolu\u001b[39;49m\u001b[38;5;124;43m\"\u001b[39;49m\u001b[43m)\u001b[49m\n\u001b[0;32m      2\u001b[0m \u001b[38;5;28mprint\u001b[39m(a)\n",
      "Input \u001b[1;32mIn [5]\u001b[0m, in \u001b[0;36mswap\u001b[1;34m(x, y)\u001b[0m\n\u001b[0;32m      7\u001b[0m c \u001b[38;5;241m=\u001b[39m \u001b[38;5;124m\"\u001b[39m\u001b[38;5;124mlola\u001b[39m\u001b[38;5;124m\"\u001b[39m\n\u001b[0;32m      8\u001b[0m \u001b[38;5;28mprint\u001b[39m(a,b,x,y)\n\u001b[1;32m----> 9\u001b[0m a \u001b[38;5;241m=\u001b[39m \u001b[43mmary\u001b[49m \n\u001b[0;32m     10\u001b[0m swap(\u001b[38;5;124m\"\u001b[39m\u001b[38;5;124mtina\u001b[39m\u001b[38;5;124m\"\u001b[39m,\u001b[38;5;124m\"\u001b[39m\u001b[38;5;124mtolu\u001b[39m\u001b[38;5;124m\"\u001b[39m)\n\u001b[0;32m     12\u001b[0m \u001b[38;5;28mprint\u001b[39m(a)\n",
      "\u001b[1;31mNameError\u001b[0m: name 'mary' is not defined"
     ]
    }
   ],
   "source": []
  },
  {
   "cell_type": "code",
   "execution_count": null,
   "id": "6a9acca6",
   "metadata": {},
   "outputs": [],
   "source": []
  }
 ],
 "metadata": {
  "kernelspec": {
   "display_name": "Python 3 (ipykernel)",
   "language": "python",
   "name": "python3"
  },
  "language_info": {
   "codemirror_mode": {
    "name": "ipython",
    "version": 3
   },
   "file_extension": ".py",
   "mimetype": "text/x-python",
   "name": "python",
   "nbconvert_exporter": "python",
   "pygments_lexer": "ipython3",
   "version": "3.9.12"
  }
 },
 "nbformat": 4,
 "nbformat_minor": 5
}
