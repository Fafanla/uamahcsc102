{
 "cells": [
  {
   "cell_type": "code",
   "execution_count": null,
   "id": "2710def8",
   "metadata": {},
   "outputs": [],
   "source": [
    "def calculate_cost(location,weight):\n",
    "    if location == 'ibeju-lekki':\n",
    "          if weight >= 10:\n",
    "                return 2000 \n",
    "            else:\n",
    "                return 1500\n",
    "            elif location = 'Epe':\n",
    "                if weight >= 10:\n",
    "                    return 5000\n",
    "                 else :\n",
    "                        return 4000\n",
    "                    else:\n",
    "                        return \"Invalid Location\"\n",
    "                    \n",
    " \n",
    " "
   ]
  },
  {
   "cell_type": "code",
   "execution_count": 26,
   "id": "dea505a2",
   "metadata": {},
   "outputs": [
    {
     "name": "stdout",
     "output_type": "stream",
     "text": [
      "Enter your location:  Epe\n",
      "Enter your package's weight:  13\n"
     ]
    },
    {
     "ename": "NameError",
     "evalue": "name 'calculate_cost' is not defined",
     "output_type": "error",
     "traceback": [
      "\u001b[1;31m---------------------------------------------------------------------------\u001b[0m",
      "\u001b[1;31mNameError\u001b[0m                                 Traceback (most recent call last)",
      "Input \u001b[1;32mIn [26]\u001b[0m, in \u001b[0;36m<cell line: 3>\u001b[1;34m()\u001b[0m\n\u001b[0;32m      1\u001b[0m location \u001b[38;5;241m=\u001b[39m \u001b[38;5;28minput\u001b[39m(\u001b[38;5;124m\"\u001b[39m\u001b[38;5;124mEnter your location:  \u001b[39m\u001b[38;5;124m\"\u001b[39m)\n\u001b[0;32m      2\u001b[0m weight   \u001b[38;5;241m=\u001b[39m \u001b[38;5;28mint\u001b[39m(\u001b[38;5;28minput\u001b[39m(\u001b[38;5;124m\"\u001b[39m\u001b[38;5;124mEnter your package\u001b[39m\u001b[38;5;124m'\u001b[39m\u001b[38;5;124ms weight:  \u001b[39m\u001b[38;5;124m\"\u001b[39m))   \n\u001b[1;32m----> 3\u001b[0m shipping_cost \u001b[38;5;241m=\u001b[39m \u001b[43mcalculate_cost\u001b[49m(location,weight)\n\u001b[0;32m      4\u001b[0m \u001b[38;5;28mprint\u001b[39m(\u001b[38;5;124m\"\u001b[39m\u001b[38;5;124mThe shipping cost is : \u001b[39m\u001b[38;5;124m\"\u001b[39m, shipping_cost)\n",
      "\u001b[1;31mNameError\u001b[0m: name 'calculate_cost' is not defined"
     ]
    }
   ],
   "source": [
    "location = input(\"Enter your location:  \")\n",
    "weight   = int(input(\"Enter your package's weight:  \"))   \n",
    "shipping_cost = calculate_cost(location,weight)\n",
    "print(\"The shipping cost is : \", shipping_cost)"
   ]
  },
  {
   "cell_type": "code",
   "execution_count": null,
   "id": "9501527a",
   "metadata": {},
   "outputs": [],
   "source": []
  }
 ],
 "metadata": {
  "kernelspec": {
   "display_name": "Python 3 (ipykernel)",
   "language": "python",
   "name": "python3"
  },
  "language_info": {
   "codemirror_mode": {
    "name": "ipython",
    "version": 3
   },
   "file_extension": ".py",
   "mimetype": "text/x-python",
   "name": "python",
   "nbconvert_exporter": "python",
   "pygments_lexer": "ipython3",
   "version": "3.9.12"
  }
 },
 "nbformat": 4,
 "nbformat_minor": 5
}
