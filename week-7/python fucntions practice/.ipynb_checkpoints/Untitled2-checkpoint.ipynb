{
 "cells": [
  {
   "cell_type": "code",
   "execution_count": 1,
   "id": "2559ddd9",
   "metadata": {},
   "outputs": [
    {
     "name": "stdout",
     "output_type": "stream",
     "text": [
      "this is outside the function\n"
     ]
    }
   ],
   "source": [
    "def function():\n",
    "    print(\"Ahhhhh\")\n",
    "    print(\"Ahhhhhhh2\")\n",
    "print(\"this is outside the function\")  "
   ]
  },
  {
   "cell_type": "code",
   "execution_count": 2,
   "id": "2db8116f",
   "metadata": {},
   "outputs": [
    {
     "name": "stdout",
     "output_type": "stream",
     "text": [
      "Ahhhhh\n",
      "Ahhhhhhh2\n"
     ]
    }
   ],
   "source": [
    "function()"
   ]
  },
  {
   "cell_type": "code",
   "execution_count": 3,
   "id": "1b86a4c5",
   "metadata": {},
   "outputs": [
    {
     "name": "stdout",
     "output_type": "stream",
     "text": [
      "Ahhhhh\n",
      "Ahhhhhhh2\n",
      "Ahhhhh\n",
      "Ahhhhhhh2\n"
     ]
    }
   ],
   "source": [
    "function()\n",
    "function()"
   ]
  },
  {
   "cell_type": "code",
   "execution_count": 4,
   "id": "520b2e7f",
   "metadata": {},
   "outputs": [],
   "source": [
    "def function2(x):\n",
    "    return 2*x"
   ]
  },
  {
   "cell_type": "code",
   "execution_count": 6,
   "id": "73b47c6c",
   "metadata": {},
   "outputs": [
    {
     "name": "stdout",
     "output_type": "stream",
     "text": [
      "6\n"
     ]
    }
   ],
   "source": [
    "a = function2(3)\n",
    "print(a)"
   ]
  },
  {
   "cell_type": "code",
   "execution_count": 8,
   "id": "1902511f",
   "metadata": {},
   "outputs": [],
   "source": [
    "def function3(x,y):\n",
    "    return x + y"
   ]
  },
  {
   "cell_type": "code",
   "execution_count": 9,
   "id": "47f08174",
   "metadata": {},
   "outputs": [
    {
     "name": "stdout",
     "output_type": "stream",
     "text": [
      "30\n"
     ]
    }
   ],
   "source": [
    "b = function3(10,20)\n",
    "print(b)"
   ]
  },
  {
   "cell_type": "code",
   "execution_count": 11,
   "id": "c4ca5869",
   "metadata": {},
   "outputs": [],
   "source": [
    " def function4(x):\n",
    "    print(x)\n",
    "    print(\"still in this function\")\n",
    "    return 3*x\n",
    "    "
   ]
  },
  {
   "cell_type": "code",
   "execution_count": 13,
   "id": "d4b6eaf8",
   "metadata": {},
   "outputs": [
    {
     "name": "stdout",
     "output_type": "stream",
     "text": [
      "4\n",
      "still in this function\n"
     ]
    }
   ],
   "source": [
    "e = function4(4)"
   ]
  },
  {
   "cell_type": "code",
   "execution_count": 14,
   "id": "7672d70f",
   "metadata": {},
   "outputs": [
    {
     "name": "stdout",
     "output_type": "stream",
     "text": [
      "12\n"
     ]
    }
   ],
   "source": [
    "print(e)"
   ]
  },
  {
   "cell_type": "code",
   "execution_count": 16,
   "id": "41c40771",
   "metadata": {},
   "outputs": [],
   "source": [
    "#bmi calculator\n",
    "name1 = \"ugo\"\n",
    "height_m1 = 1.83\n",
    "weight_kg1 = 75\n",
    "\n",
    "name2 = \"chun_li\"\n",
    "height_m2 = 1.69\n",
    "weight_kg2 = 60\n",
    "\n",
    "\n",
    "name3 = \"slim_jim\"\n",
    "height_m3 = 1.95\n",
    "weight_kg3 = 100\n"
   ]
  },
  {
   "cell_type": "code",
   "execution_count": 19,
   "id": "a8f5b279",
   "metadata": {},
   "outputs": [],
   "source": [
    "def bmi_calculator():\n",
    "    bmi = weight_kg/(height_m**2)\n",
    "    print(\"bmi : \")\n",
    "    print(bmi)\n",
    "    if bmi < 25 :\n",
    "        return name + \" not overweight \"\n",
    "    else :\n",
    "        return name + \" is overweight \""
   ]
  },
  {
   "cell_type": "code",
   "execution_count": 21,
   "id": "013a12d0",
   "metadata": {},
   "outputs": [
    {
     "ename": "NameError",
     "evalue": "name 'height_m1' is not defined",
     "output_type": "error",
     "traceback": [
      "\u001b[1;31m---------------------------------------------------------------------------\u001b[0m",
      "\u001b[1;31mNameError\u001b[0m                                 Traceback (most recent call last)",
      "Input \u001b[1;32mIn [21]\u001b[0m, in \u001b[0;36m<cell line: 1>\u001b[1;34m()\u001b[0m\n\u001b[1;32m----> 1\u001b[0m result1 \u001b[38;5;241m=\u001b[39m bmi_calculator(name1,\u001b[43mheight_m1\u001b[49m,weight_kg1)\n\u001b[0;32m      2\u001b[0m result2 \u001b[38;5;241m=\u001b[39m bmi_calculator(name2,height_m2,weight_kg2)\n\u001b[0;32m      3\u001b[0m result3 \u001b[38;5;241m=\u001b[39m bmi_calculator(name3,height_m3,weight_kg3)\n",
      "\u001b[1;31mNameError\u001b[0m: name 'height_m1' is not defined"
     ]
    }
   ],
   "source": [
    "result1 = bmi_calculator(name1,height_m1,weight_kg1)\n",
    "result2 = bmi_calculator(name2,height_m2,weight_kg2)\n",
    "result3 = bmi_calculator(name3,height_m3,weight_kg3)"
   ]
  },
  {
   "cell_type": "code",
   "execution_count": null,
   "id": "dc2f4dbb",
   "metadata": {},
   "outputs": [],
   "source": []
  }
 ],
 "metadata": {
  "kernelspec": {
   "display_name": "Python 3 (ipykernel)",
   "language": "python",
   "name": "python3"
  },
  "language_info": {
   "codemirror_mode": {
    "name": "ipython",
    "version": 3
   },
   "file_extension": ".py",
   "mimetype": "text/x-python",
   "name": "python",
   "nbconvert_exporter": "python",
   "pygments_lexer": "ipython3",
   "version": "3.9.12"
  }
 },
 "nbformat": 4,
 "nbformat_minor": 5
}
