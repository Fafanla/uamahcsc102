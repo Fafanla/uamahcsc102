{
 "cells": [
  {
   "cell_type": "code",
   "execution_count": null,
   "id": "a79d0e27",
   "metadata": {},
   "outputs": [],
   "source": [
    "\n",
    "\n",
    "def greeting():\n",
    "    name = input(\"Enter your name \")\n",
    "    print(\"Welcome  \",name)\n",
    " \n",
    "\n",
    "    \n",
    "def farewell():\n",
    "    name = input(\"Enter your name\")\n",
    "    print(\"Goodbye  \",name)\n",
    "\n",
    "def main(): \n",
    "    hm = [\"Greeting\",\"Farewell\"]\n",
    "    choice = input(\"select a greeting or farewell\")\n",
    "    if choice in hm :\n",
    "        if choice == \"Greeting\":\n",
    "            greeting()\n",
    "        elif choice == \"Farewell\":\n",
    "            farewell()\n",
    "    else : \n",
    "            print(\"no fuction for this\")\n",
    "    \n",
    "    \n",
    "    if choice == 1:\n",
    "            greeting()\n",
    "    if choice == 2 :\n",
    "                farewell()\n",
    "    \n",
    "\n",
    "\n",
    "\n"
   ]
  },
  {
   "cell_type": "code",
   "execution_count": null,
   "id": "f6b2df20",
   "metadata": {},
   "outputs": [],
   "source": [
    "main()"
   ]
  },
  {
   "cell_type": "code",
   "execution_count": null,
   "id": "8456da03",
   "metadata": {},
   "outputs": [],
   "source": []
  }
 ],
 "metadata": {
  "kernelspec": {
   "display_name": "Python 3 (ipykernel)",
   "language": "python",
   "name": "python3"
  },
  "language_info": {
   "codemirror_mode": {
    "name": "ipython",
    "version": 3
   },
   "file_extension": ".py",
   "mimetype": "text/x-python",
   "name": "python",
   "nbconvert_exporter": "python",
   "pygments_lexer": "ipython3",
   "version": "3.9.12"
  }
 },
 "nbformat": 4,
 "nbformat_minor": 5
}
