{
 "cells": [
  {
   "cell_type": "code",
   "execution_count": 14,
   "id": "a79d0e27",
   "metadata": {},
   "outputs": [
    {
     "name": "stdout",
     "output_type": "stream",
     "text": [
      "select 1 for greeting\n",
      "select 2 for farewell\n",
      "select either 1 or 2 : 2\n",
      "Invalid input\n"
     ]
    }
   ],
   "source": [
    "\n",
    "\n",
    "def greeting():\n",
    "    name = input(\"Enter your name \")\n",
    "    print(\"Welcome  \",name)\n",
    " \n",
    "\n",
    "    \n",
    "def farewell():\n",
    "    name = input(\"Enter your name\")\n",
    "    print(\"Goodbye  \",name)\n",
    "\n",
    "def main():   \n",
    "    print(\"select 1 for greeting\")\n",
    "    print(\"select 2 for farewell\") \n",
    "    choice = input(\"select either 1 or 2 : \")\n",
    "    if choice == 1:\n",
    "            greeting()\n",
    "    if choice == 2 :\n",
    "                farewell()\n",
    "    else:\n",
    "        print(\"Invalid input\")\n",
    "main() \n",
    "\n"
   ]
  },
  {
   "cell_type": "code",
   "execution_count": null,
   "id": "f6b2df20",
   "metadata": {},
   "outputs": [],
   "source": []
  }
 ],
 "metadata": {
  "kernelspec": {
   "display_name": "Python 3 (ipykernel)",
   "language": "python",
   "name": "python3"
  },
  "language_info": {
   "codemirror_mode": {
    "name": "ipython",
    "version": 3
   },
   "file_extension": ".py",
   "mimetype": "text/x-python",
   "name": "python",
   "nbconvert_exporter": "python",
   "pygments_lexer": "ipython3",
   "version": "3.9.12"
  }
 },
 "nbformat": 4,
 "nbformat_minor": 5
}
