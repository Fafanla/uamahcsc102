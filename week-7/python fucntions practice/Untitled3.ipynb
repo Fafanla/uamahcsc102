{
 "cells": [
  {
   "cell_type": "code",
   "execution_count": 6,
   "id": "bd0a4437",
   "metadata": {},
   "outputs": [
    {
     "name": "stdout",
     "output_type": "stream",
     "text": [
      "the sum is  :  146\n"
     ]
    }
   ],
   "source": [
    "def add_numbers(n1,n2):\n",
    "    result = n1 + n2\n",
    "    print(\"the sum is  : \",result)\n",
    "\n",
    "    \n",
    "number1 = 23\n",
    "number2 = 123\n",
    "add_numbers(number1,number2)"
   ]
  },
  {
   "cell_type": "code",
   "execution_count": 5,
   "id": "70357392",
   "metadata": {},
   "outputs": [
    {
     "name": "stdout",
     "output_type": "stream",
     "text": [
      "hello jack\n",
      "how are you\n"
     ]
    }
   ],
   "source": []
  },
  {
   "cell_type": "code",
   "execution_count": 8,
   "id": "1da105df",
   "metadata": {},
   "outputs": [
    {
     "name": "stdout",
     "output_type": "stream",
     "text": [
      "the sum is :  146\n"
     ]
    }
   ],
   "source": [
    "def add_numbers(n1,n2):\n",
    "    result = n1 + n2\n",
    "    return result\n",
    "\n",
    "    \n",
    "number1 = 23\n",
    "number2 = 123\n",
    "result = add_numbers(number1,number2)\n",
    "print(\"the sum is : \",result)"
   ]
  },
  {
   "cell_type": "code",
   "execution_count": 21,
   "id": "914b51f1",
   "metadata": {},
   "outputs": [
    {
     "name": "stdout",
     "output_type": "stream",
     "text": [
      " the average mark for this student is :   70.6\n",
      "your grade is :  A\n"
     ]
    }
   ],
   "source": [
    "def Average(int):\n",
    "    sum_of_marks = sum(marks)\n",
    "    length_of_marks = len(marks)\n",
    "    average_mark = sum_of_marks/length_of_marks\n",
    "    return average_mark\n",
    "\n",
    "def compute_grade(average_mark):\n",
    "    if average_mark >=70:\n",
    "        grade = 'A'\n",
    "    elif average_mark >=60:\n",
    "        grade = 'B'\n",
    "    elif average_mark >=50:\n",
    "        grade = \"C\"\n",
    "    elif average_mark >=45:\n",
    "                grade ='D'\n",
    "    else :\n",
    "                    grade ='F'\n",
    "\n",
    "                \n",
    "\n",
    "    return grade                \n",
    "        \n",
    "        \n",
    "    \n",
    "    \n",
    "marks = [65,78,76,56,78]\n",
    "average_mark = Average(marks)\n",
    "print ( \" the average mark for this student is :  \",average_mark)\n",
    "\n",
    "grade = compute_grade(average_mark)\n",
    "print(\"your grade is : \",grade)"
   ]
  },
  {
   "cell_type": "code",
   "execution_count": 23,
   "id": "ea873db2",
   "metadata": {},
   "outputs": [
    {
     "name": "stdout",
     "output_type": "stream",
     "text": [
      "the addition of these 2 numbers is :  70\n",
      "the multipication of these 2 numbers is :  1200\n"
     ]
    }
   ],
   "source": [
    "#adding and multiplying two numbers using functions\n",
    "def add_numbers(n1,n2):\n",
    "    addition = n1 + n2 \n",
    "    return addition\n",
    "    \n",
    "def multiply_numbers(n1,n2): \n",
    "    multiplication = n1*n2\n",
    "    return multiplication\n",
    "\n",
    "\n",
    "number1 = 30\n",
    "number2 = 40\n",
    "\n",
    "addition = add_numbers(number1,number2)\n",
    "multiplication = multiply_numbers(number1,number2)\n",
    "print(\"the addition of these 2 numbers is : \",addition)\n",
    "print(\"the multipication of these 2 numbers is : \",multiplication)\n",
    "\n"
   ]
  },
  {
   "cell_type": "code",
   "execution_count": null,
   "id": "c2c3fb85",
   "metadata": {},
   "outputs": [],
   "source": []
  }
 ],
 "metadata": {
  "kernelspec": {
   "display_name": "Python 3 (ipykernel)",
   "language": "python",
   "name": "python3"
  },
  "language_info": {
   "codemirror_mode": {
    "name": "ipython",
    "version": 3
   },
   "file_extension": ".py",
   "mimetype": "text/x-python",
   "name": "python",
   "nbconvert_exporter": "python",
   "pygments_lexer": "ipython3",
   "version": "3.9.12"
  }
 },
 "nbformat": 4,
 "nbformat_minor": 5
}
