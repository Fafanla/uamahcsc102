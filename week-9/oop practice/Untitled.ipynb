{
 "cells": [
  {
   "cell_type": "code",
   "execution_count": 23,
   "id": "e41af146",
   "metadata": {},
   "outputs": [],
   "source": [
    "class Car :\n",
    "    def __init__(self,make,model,year,color):    \n",
    "        self.make = make\n",
    "        self.model = model\n",
    "        self.year = year \n",
    "        self.color = color\n",
    "    \n",
    "    def drive(self):\n",
    "        print(\"this \"+  self.make  +  self.model +\" is driving\")\n",
    "\n",
    "    def stop(self):\n",
    "        print(\"this car has stopped\")\n",
    "        \n"
   ]
  },
  {
   "cell_type": "code",
   "execution_count": 24,
   "id": "1d70b6d8",
   "metadata": {},
   "outputs": [
    {
     "name": "stdout",
     "output_type": "stream",
     "text": [
      "Chevy\n",
      "Corvette\n",
      "2021\n",
      "blue\n",
      "this ChevyCorvette is driving\n",
      "this car has stopped\n"
     ]
    }
   ],
   "source": [
    "car_1 = Car(\"Chevy\",\"Corvette\",2021,\"blue\")\n",
    "print(car_1.make)\n",
    "print(car_1.model)\n",
    "print(car_1.year)\n",
    "print(car_1.color)\n",
    "    \n",
    "car_1.drive()\n",
    "car_1.stop()"
   ]
  },
  {
   "cell_type": "code",
   "execution_count": 3,
   "id": "a49f0b86",
   "metadata": {},
   "outputs": [],
   "source": [
    "class Human :\n",
    "    def __innit__(self,name,age,height,):\n",
    "        self.name = name \n",
    "        self.age = age \n",
    "        self.height = height\n",
    "    \n",
    "    def that_guy(self):\n",
    "        print(\"his name is\"+ self.name)\n",
    "        print(\"he's\" + self.age + \"old\")\n",
    "        print(\"he's about \"+ self.height + \"cm\")\n",
    "        \n",
    "        \n",
    "        \n",
    "    \n",
    "        "
   ]
  },
  {
   "cell_type": "code",
   "execution_count": 4,
   "id": "f26df490",
   "metadata": {
    "scrolled": true
   },
   "outputs": [
    {
     "ename": "TypeError",
     "evalue": "Human() takes no arguments",
     "output_type": "error",
     "traceback": [
      "\u001b[1;31m---------------------------------------------------------------------------\u001b[0m",
      "\u001b[1;31mTypeError\u001b[0m                                 Traceback (most recent call last)",
      "Input \u001b[1;32mIn [4]\u001b[0m, in \u001b[0;36m<cell line: 1>\u001b[1;34m()\u001b[0m\n\u001b[1;32m----> 1\u001b[0m person_1 \u001b[38;5;241m=\u001b[39m \u001b[43mHuman\u001b[49m\u001b[43m(\u001b[49m\u001b[38;5;124;43m'\u001b[39;49m\u001b[38;5;124;43mUgochukwu\u001b[39;49m\u001b[38;5;124;43m'\u001b[39;49m\u001b[43m,\u001b[49m\u001b[38;5;241;43m19\u001b[39;49m\u001b[43m,\u001b[49m\u001b[38;5;241;43m183\u001b[39;49m\u001b[43m)\u001b[49m \n\u001b[0;32m      2\u001b[0m \u001b[38;5;28mprint\u001b[39m(person_1\u001b[38;5;241m.\u001b[39mname)    \n\u001b[0;32m      3\u001b[0m \u001b[38;5;28mprint\u001b[39m(person_1\u001b[38;5;241m.\u001b[39mage)    \n",
      "\u001b[1;31mTypeError\u001b[0m: Human() takes no arguments"
     ]
    }
   ],
   "source": [
    "person_1 = Human(\"Ugochukwu\",19,183) \n",
    "print(person_1.name)    \n",
    "print(person_1.age)    \n",
    "print(person_1.height)\n",
    "    \n",
    "person_1.that_guy()"
   ]
  },
  {
   "cell_type": "code",
   "execution_count": null,
   "id": "72cabdfa",
   "metadata": {},
   "outputs": [],
   "source": []
  },
  {
   "cell_type": "code",
   "execution_count": null,
   "id": "fccb6818",
   "metadata": {},
   "outputs": [],
   "source": []
  }
 ],
 "metadata": {
  "kernelspec": {
   "display_name": "Python 3 (ipykernel)",
   "language": "python",
   "name": "python3"
  },
  "language_info": {
   "codemirror_mode": {
    "name": "ipython",
    "version": 3
   },
   "file_extension": ".py",
   "mimetype": "text/x-python",
   "name": "python",
   "nbconvert_exporter": "python",
   "pygments_lexer": "ipython3",
   "version": "3.9.12"
  }
 },
 "nbformat": 4,
 "nbformat_minor": 5
}
