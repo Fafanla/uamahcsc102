{
 "cells": [
  {
   "cell_type": "code",
   "execution_count": 3,
   "id": "1ac03be4",
   "metadata": {},
   "outputs": [
    {
     "name": "stdout",
     "output_type": "stream",
     "text": [
      "<class '__main__.item'>\n",
      "<class 'str'>\n",
      "<class 'int'>\n",
      "<class 'int'>\n",
      "<__main__.item object at 0x000001CD989AB7C0>\n"
     ]
    }
   ],
   "source": [
    "# object oriented programming\n",
    "class item :\n",
    "    pass\n",
    "\n",
    "item1 = item()\n",
    "item.name = \"iphone14\"\n",
    "item.price = 1200\n",
    "item.quantity = 1000000\n",
    "\n",
    "random_str = 'aaa'\n",
    "print(random_str.upper())"
   ]
  },
  {
   "cell_type": "code",
   "execution_count": 1,
   "id": "dbc78a73",
   "metadata": {},
   "outputs": [
    {
     "name": "stdout",
     "output_type": "stream",
     "text": [
      "6000\n"
     ]
    }
   ],
   "source": [
    "class item :\n",
    "    def __innit__():\n",
    "        print(I AM CREATED )\n",
    "    \n",
    "    def calculate_price(self,x,y):\n",
    "        return x*y\n",
    "    \n",
    "\n",
    "item1 = item()\n",
    "item.name = \"iphone14\"\n",
    "item.price = 1200\n",
    "item.quantity = 5\n",
    "print(item1.calculate_price(item.price,item.quantity))\n",
    "\n"
   ]
  },
  {
   "cell_type": "code",
   "execution_count": null,
   "id": "2c5cee54",
   "metadata": {},
   "outputs": [],
   "source": [
    "from abc import ABC, abstractmethod\n",
    "\n",
    "class Animal(ABC):\n",
    "\n",
    "    @abstractmethod\n",
    "    def move(self):\n",
    "        pass\n",
    "\n",
    "class Human(Animal):\n",
    "    \n",
    "    def move(self,Animal):\n",
    "        print(f\"\\n You are {animal}. You can walk and run\")\n",
    "\n",
    "class Snake(Animal):\n",
    "    \n",
    "    def move(self,animal):\n",
    "        print(f\"\\n You are a {animal}. You can crawl\")\n",
    "\n",
    "class Dog(Animal):\n",
    "\n",
    "    def move(self,animal):\n",
    "        print(f\"\\n You are a {animal}. You can bark\")\n",
    "\n",
    "class Lion(Animal):\n",
    "    \n",
    "    def move(self,animal):\n",
    "        print(f\"\\n You are a {animal}. You can roar\")\n",
    "\n",
    "# Object Instantiation\n",
    "animal = input(\"What animal specie are you?: \")\n",
    "\n",
    "if animal == \"Human\":\n",
    "    H = Human()\n",
    "    H.move(animal)\n",
    "elif animal == \"Snake\":\n",
    "    S = Snake()\n",
    "    s.move(aniwal)\n",
    "elif animal == \"Dog\":\n",
    "    D = Dog()\n",
    "    D.move(amimal)\n",
    "elif animal == \"Lion\":\n",
    "    L = Lion()\n",
    "    L.move(aminal)\n",
    "else:\n",
    "    print(\"Invalid animal specie\")"
   ]
  }
 ],
 "metadata": {
  "kernelspec": {
   "display_name": "Python 3 (ipykernel)",
   "language": "python",
   "name": "python3"
  },
  "language_info": {
   "codemirror_mode": {
    "name": "ipython",
    "version": 3
   },
   "file_extension": ".py",
   "mimetype": "text/x-python",
   "name": "python",
   "nbconvert_exporter": "python",
   "pygments_lexer": "ipython3",
   "version": "3.9.12"
  }
 },
 "nbformat": 4,
 "nbformat_minor": 5
}
