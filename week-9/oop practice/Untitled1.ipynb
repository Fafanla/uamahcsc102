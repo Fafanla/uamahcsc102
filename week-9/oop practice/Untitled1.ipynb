{
 "cells": [
  {
   "cell_type": "code",
   "execution_count": 3,
   "id": "1ac03be4",
   "metadata": {},
   "outputs": [
    {
     "name": "stdout",
     "output_type": "stream",
     "text": [
      "<class '__main__.item'>\n",
      "<class 'str'>\n",
      "<class 'int'>\n",
      "<class 'int'>\n",
      "<__main__.item object at 0x000001CD989AB7C0>\n"
     ]
    }
   ],
   "source": [
    "# object oriented programming\n",
    "class item :\n",
    "    pass\n",
    "\n",
    "item1 = item()\n",
    "item.name = \"iphone14\"\n",
    "item.price = 1200\n",
    "item.quantity = 1000000\n",
    "\n",
    "\n"
   ]
  },
  {
   "cell_type": "code",
   "execution_count": 1,
   "id": "dbc78a73",
   "metadata": {},
   "outputs": [
    {
     "name": "stdout",
     "output_type": "stream",
     "text": [
      "6000\n"
     ]
    }
   ],
   "source": [
    "class item :\n",
    "    def __innit__():\n",
    "        print(I AM CREATED )\n",
    "    \n",
    "    def calculate_price(self,x,y):\n",
    "        return x*y\n",
    "    \n",
    "\n",
    "item1 = item()\n",
    "item.name = \"iphone14\"\n",
    "item.price = 1200\n",
    "item.quantity = 5\n",
    "print(item1.calculate_price(item.price,item.quantity))\n",
    "\n"
   ]
  },
  {
   "cell_type": "code",
   "execution_count": 1,
   "id": "2c5cee54",
   "metadata": {},
   "outputs": [
    {
     "name": "stdout",
     "output_type": "stream",
     "text": [
      "What animal specie are you?: Lion \n",
      "Invalid animal specie\n"
     ]
    }
   ],
   "source": [
    "from abc import ABC, abstractmethod\n",
    "\n",
    "class Animal(ABC):\n",
    "\n",
    "    @abstractmethod\n",
    "    def move(self):\n",
    "        pass\n",
    "\n",
    "class Human(Animal):\n",
    "    \n",
    "    def move(self,Animal):\n",
    "        print(f\"\\n You are {animal}. You can walk and run\")\n",
    "\n",
    "class Snake(Animal):\n",
    "    \n",
    "    def move(self,animal):\n",
    "        print(f\"\\n You are a {animal}. You can crawl\")\n",
    "\n",
    "class Dog(Animal):\n",
    "\n",
    "    def move(self,animal):\n",
    "        print(f\"\\n You are a {animal}. You can bark\")\n",
    "\n",
    "class Lion(Animal):\n",
    "    \n",
    "    def move(self,animal):\n",
    "        print(f\"\\n You are a {animal}. You can roar\")\n",
    "\n",
    "# Object Instantiation\n",
    "animal = input(\"What animal specie are you?: \")\n",
    "\n",
    "if animal == \"Human\":\n",
    "    H = Human()\n",
    "    H.move(animal)\n",
    "elif animal == \"Snake\":\n",
    "    S = Snake()\n",
    "    s.move(aniwal)\n",
    "elif animal == \"Dog\":\n",
    "    D = Dog()\n",
    "    D.move(amimal)\n",
    "elif animal == \"Lion\":\n",
    "    L = Lion()\n",
    "    L.move(aminal)\n",
    "else:\n",
    "    print(\"Invalid animal specie\")"
   ]
  },
  {
   "cell_type": "code",
   "execution_count": 11,
   "id": "b46eba12",
   "metadata": {},
   "outputs": [
    {
     "name": "stdout",
     "output_type": "stream",
     "text": [
      "this rabbit is running\n",
      "this fish is swimming\n",
      "this hawk is flying\n"
     ]
    }
   ],
   "source": [
    "class Animal :\n",
    "    alive  = True \n",
    "    \n",
    "    def eat(self):\n",
    "        print(\"This animal is eating\")\n",
    "        \n",
    "    def sleep(self):\n",
    "        print(\"This animal is sleeping\")\n",
    "        \n",
    "        \n",
    "class Rabbit (Animal):\n",
    "    def run (self):\n",
    "        print (\"this rabbit is running\")\n",
    "        \n",
    "class Fish (Animal):\n",
    "    def swim(self):\n",
    "        print(\"this fish is swimming\")\n",
    "class Hawk(Animal):\n",
    "    def fly(self):\n",
    "        print(\"this hawk is flying\")\n",
    "\n",
    "rabbit = Rabbit()\n",
    "fish = Fish()\n",
    "hawk =  Hawk()\n",
    "\n",
    "\n",
    "rabbit.run()\n",
    "fish.swim()\n",
    "hawk.fly()\n",
    "\n",
    "    "
   ]
  },
  {
   "cell_type": "code",
   "execution_count": 2,
   "id": "6244b357",
   "metadata": {},
   "outputs": [
    {
     "ename": "NameError",
     "evalue": "name 'self' is not defined",
     "output_type": "error",
     "traceback": [
      "\u001b[1;31m---------------------------------------------------------------------------\u001b[0m",
      "\u001b[1;31mNameError\u001b[0m                                 Traceback (most recent call last)",
      "Input \u001b[1;32mIn [2]\u001b[0m, in \u001b[0;36m<cell line: 1>\u001b[1;34m()\u001b[0m\n\u001b[1;32m----> 1\u001b[0m \u001b[38;5;28;01mclass\u001b[39;00m \u001b[38;5;21;01mEmployee\u001b[39;00m(\u001b[38;5;28;43mself\u001b[39;49m) : \n\u001b[0;32m      2\u001b[0m     raise_amt \u001b[38;5;241m=\u001b[39m \u001b[38;5;241m1.04\u001b[39m\n\u001b[0;32m      4\u001b[0m     \u001b[38;5;28;01mdef\u001b[39;00m \u001b[38;5;21m__init__\u001b[39m(\u001b[38;5;28mself\u001b[39m,first,last,pay):\n",
      "\u001b[1;31mNameError\u001b[0m: name 'self' is not defined"
     ]
    }
   ],
   "source": [
    "class Employee() : \n",
    "    raise_amt = 1.04\n",
    "    \n",
    "    def __init__(self,first,last,pay):\n",
    "        self.first = first\n",
    "        self.last = last \n",
    "        self.pay = pay \n",
    "        self.email = first + '.' + last + '@email.com'\n",
    "        \n",
    "    def fullname(self):\n",
    "        return '{} {}'.format(self.first,self.last)\n",
    "           \n",
    "        \n",
    "    def apply_raise(self):\n",
    "        self.pay = int(self.pay * self.raise_amt)\n",
    "        \n",
    "  \n",
    "        \n",
    "    dev_1 = Employee('Corey','Schafer',50000)\n",
    "    dev_2 = Employee('Test','Employee',60000)\n",
    "    \n",
    "    \n",
    "    print(dev_1.email)\n",
    "    \n",
    "         "
   ]
  },
  {
   "cell_type": "code",
   "execution_count": 4,
   "id": "2964fb2c",
   "metadata": {},
   "outputs": [
    {
     "name": "stdout",
     "output_type": "stream",
     "text": [
      "              names  Ages\n",
      "0         Amah Uche    58\n",
      "1   Amah Bernadette    54\n",
      "2  Amah Uche Junior    36\n",
      "3     Amah Chidinma    34\n",
      "4      Amah Chinedu    33\n",
      "5       Amah Nkechi    31\n",
      "6      Amah Ifeanyi    27\n",
      "7    Amah Ugochukwu    19\n"
     ]
    }
   ],
   "source": [
    "import pandas as pd\n",
    "Amah_Family = {'names':['Amah Uche','Amah Bernadette','Amah Uche Junior','Amah Chidinma','Amah Chinedu',\n",
    "                        'Amah Nkechi','Amah Ifeanyi','Amah Ugochukwu'],'Ages':[58,54,36,34,33,31,27,19]}\n",
    "df = pd.DataFrame(Amah_Family)\n",
    "\n",
    "print(df)"
   ]
  },
  {
   "cell_type": "code",
   "execution_count": null,
   "id": "9e5af7f5",
   "metadata": {},
   "outputs": [],
   "source": [
    "name = input(\"enter your name \")\n",
    "if name == '':\n",
    "         print(\"you did not enter your name \")\n",
    "else :\n",
    "    print(f\"hello {name}\")"
   ]
  },
  {
   "cell_type": "code",
   "execution_count": null,
   "id": "fd938915",
   "metadata": {},
   "outputs": [],
   "source": []
  },
  {
   "cell_type": "code",
   "execution_count": null,
   "id": "94e6f5d0",
   "metadata": {},
   "outputs": [],
   "source": []
  }
 ],
 "metadata": {
  "kernelspec": {
   "display_name": "Python 3 (ipykernel)",
   "language": "python",
   "name": "python3"
  },
  "language_info": {
   "codemirror_mode": {
    "name": "ipython",
    "version": 3
   },
   "file_extension": ".py",
   "mimetype": "text/x-python",
   "name": "python",
   "nbconvert_exporter": "python",
   "pygments_lexer": "ipython3",
   "version": "3.9.12"
  }
 },
 "nbformat": 4,
 "nbformat_minor": 5
}
