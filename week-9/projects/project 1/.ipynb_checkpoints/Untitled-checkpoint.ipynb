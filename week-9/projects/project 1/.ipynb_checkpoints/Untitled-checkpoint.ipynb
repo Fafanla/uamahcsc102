{
 "cells": [
  {
   "cell_type": "code",
   "execution_count": 20,
   "id": "4f0b4698",
   "metadata": {},
   "outputs": [],
   "source": [
    "\n",
    "class Employees :\n",
    "      \n",
    "    \n",
    "    def check_employee():\n",
    "        \n",
    "        Employeez = [\"Mary Evans\", \"Eyo Ishan\", \"Durojaiye Dare\", \"Adams Ali\",\n",
    "             \"Andrew Ugwu\", \"Stella Mankinde\", \"Jane Akibo\", \"Ago James\", \n",
    "             \"Michell Taiwo\", \"Abraham Jones\" , \"Nicole Anide\", \n",
    "             \"Kosi Korso\", \"Adele Martins\", \"Emmanuel Ojo\", \"Ajayi Fatima\"]\n",
    "        \n",
    "        confirmation = input(\"enter your name  \")\n",
    "        if confirmation in Employeez :\n",
    "            print(\"Access granted\")\n",
    "            take_attendance()\n",
    "        else :\n",
    "                print(\"Access denied\")\n",
    "                return\n",
    "            \n",
    "    def take_attendance():\n",
    "        input(\"confirm if you are present by selecting either y/n\")\n",
    "        present = input()\n",
    "        if present == y :\n",
    "            print(\"you have confirmed your attendance \")\n",
    "        else :\n",
    "            print(\"no attendance\")\n",
    "        \n",
    "             "
   ]
  },
  {
   "cell_type": "code",
   "execution_count": null,
   "id": "da263f52",
   "metadata": {},
   "outputs": [],
   "source": [
    "obj = Employees\n",
    "\n",
    "\n",
    "obj.check_employee()\n",
    "\n"
   ]
  },
  {
   "cell_type": "code",
   "execution_count": null,
   "id": "5d6730be",
   "metadata": {},
   "outputs": [],
   "source": []
  },
  {
   "cell_type": "code",
   "execution_count": null,
   "id": "6c666096",
   "metadata": {},
   "outputs": [],
   "source": []
  },
  {
   "cell_type": "code",
   "execution_count": null,
   "id": "214e2b25",
   "metadata": {},
   "outputs": [],
   "source": []
  }
 ],
 "metadata": {
  "kernelspec": {
   "display_name": "Python 3 (ipykernel)",
   "language": "python",
   "name": "python3"
  },
  "language_info": {
   "codemirror_mode": {
    "name": "ipython",
    "version": 3
   },
   "file_extension": ".py",
   "mimetype": "text/x-python",
   "name": "python",
   "nbconvert_exporter": "python",
   "pygments_lexer": "ipython3",
   "version": "3.9.12"
  }
 },
 "nbformat": 4,
 "nbformat_minor": 5
}
